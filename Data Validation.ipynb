{
 "cells": [
  {
   "cell_type": "code",
   "execution_count": 1,
   "metadata": {},
   "outputs": [],
   "source": [
    "import re\n",
    "import statistics\n",
    "import pandas as pd"
   ]
  },
  {
   "cell_type": "markdown",
   "metadata": {},
   "source": [
    "# Data Validation"
   ]
  },
  {
   "cell_type": "code",
   "execution_count": 2,
   "metadata": {},
   "outputs": [],
   "source": [
    "participant_data = pd.read_csv(\"Participant Data.csv\")\n",
    "subevents = pd.read_csv(\"Competitor Labs Subevents.csv\")"
   ]
  },
  {
   "cell_type": "code",
   "execution_count": 3,
   "metadata": {},
   "outputs": [
    {
     "name": "stdout",
     "output_type": "stream",
     "text": [
      "Potential issue found for f2bd48fb-d595-4163-b090-f6b04089fa42 with 2768 in data and 1384 in log (200.0%)\n",
      "Potential issue found for 8ac0ab78-2ef7-4481-87da-044d8a032079 with 4982 in data and 2491 in log (200.0%)\n",
      "Potential issue found for 61a15e83-504c-43b5-8ff6-029b92ba5f2a with 4348 in data and 2174 in log (200.0%)\n",
      "Potential issue found for 0209b19e-84e2-417e-be79-cb4dfdb02e3a with 4538 in data and 2269 in log (200.0%)\n",
      "Potential issue found for 1c0caffb-36cf-46f6-8f67-c1e7f7f428b8 with 5178 in data and 2589 in log (200.0%)\n",
      "Potential issue found for 7e4970a2-c1e4-41d5-928c-46263005e39a with 5230 in data and 2615 in log (200.0%)\n",
      "Potential issue found for 0a7ac8ac-3bf4-4615-94f7-51ae16220699 with 6732 in data and 3366 in log (200.0%)\n",
      "Potential issue found for 7b8fe9f3-87d2-ea11-a812-000d3a5a1cf8 with 640 in data and 320 in log (200.0%)\n",
      "Potential issue found for afaac1dc-73ba-e811-a967-000d3a37468c with 4258 in data and 2129 in log (200.0%)\n",
      "Potential issue found for 19c48b66-758e-e711-9419-005056951bf1 with 4942 in data and 2471 in log (200.0%)\n",
      "Potential issue found for a199a3a5-6674-e611-9410-005056951bf1 with 4910 in data and 2455 in log (200.0%)\n",
      "Potential issue found for 9cb970f1-a951-e511-9409-005056951bf1 with 4630 in data and 2315 in log (200.0%)\n",
      "Potential issue found for d57bb0ac-432e-4d3e-a4ba-7ad7439b8b02 with 4614 in data and 2307 in log (200.0%)\n",
      "Potential issue found for 324952b5-7a15-e311-9ec7-005056956277 with 4372 in data and 2186 in log (200.0%)\n",
      "Potential issue found for 0f626994-3055-e211-b7a2-005056956277 with 4268 in data and 2134 in log (200.0%)\n",
      "Potential issue found for 2518d0b1-4eae-e111-80ae-005056956277 with 4076 in data and 2038 in log (200.0%)\n",
      "Potential issue found for 1d17d0b1-4eae-e111-80ae-005056956277 with 3834 in data and 1917 in log (200.0%)\n",
      "Potential issue found for 1d16d0b1-4eae-e111-80ae-005056956277 with 3852 in data and 1926 in log (200.0%)\n",
      "Potential issue found for 7b15d0b1-4eae-e111-80ae-005056956277 with 3704 in data and 1852 in log (200.0%)\n",
      "Potential issue found for 0115d0b1-4eae-e111-80ae-005056956277 with 3616 in data and 1808 in log (200.0%)\n",
      "Potential issue found for a714d0b1-4eae-e111-80ae-005056956277 with 3670 in data and 1835 in log (200.0%)\n",
      "Potential issue found for 5514d0b1-4eae-e111-80ae-005056956277 with 3570 in data and 1785 in log (200.0%)\n",
      "Potential issue found for 0b14d0b1-4eae-e111-80ae-005056956277 with 3592 in data and 1796 in log (200.0%)\n",
      "Potential issue found for c313d0b1-4eae-e111-80ae-005056956277 with 3592 in data and 1796 in log (200.0%)\n",
      "Potential issue found for 8d13d0b1-4eae-e111-80ae-005056956277 with 3426 in data and 1713 in log (200.0%)\n",
      "Potential issue found for e12fd041-e7e7-499c-9cb4-37887b5b40c2 with 0 in data and 2686 in log (0.0%)\n",
      "Potential issue found for f9281b83-d768-46f2-be86-40dd49b5dfe5 with 0 in data and 2030 in log (0.0%)\n",
      "Potential issue found for eab9739b-ddba-e511-940c-005056951bf1 with 0 in data and 1212 in log (0.0%)\n",
      "Potential issue found for f2bd48fb-d595-4163-b090-f6b04089fa42 with 2768 in data and 1384 in log (200.0%)\n",
      "Potential issue found for 8ac0ab78-2ef7-4481-87da-044d8a032079 with 4982 in data and 2491 in log (200.0%)\n",
      "Potential issue found for 61a15e83-504c-43b5-8ff6-029b92ba5f2a with 4348 in data and 2174 in log (200.0%)\n",
      "Potential issue found for 0209b19e-84e2-417e-be79-cb4dfdb02e3a with 4538 in data and 2269 in log (200.0%)\n",
      "Potential issue found for 1c0caffb-36cf-46f6-8f67-c1e7f7f428b8 with 5178 in data and 2589 in log (200.0%)\n",
      "Potential issue found for 7e4970a2-c1e4-41d5-928c-46263005e39a with 5230 in data and 2615 in log (200.0%)\n",
      "Potential issue found for 0a7ac8ac-3bf4-4615-94f7-51ae16220699 with 6732 in data and 3366 in log (200.0%)\n",
      "Potential issue found for 7b8fe9f3-87d2-ea11-a812-000d3a5a1cf8 with 640 in data and 320 in log (200.0%)\n",
      "Potential issue found for afaac1dc-73ba-e811-a967-000d3a37468c with 4258 in data and 2129 in log (200.0%)\n",
      "Potential issue found for 19c48b66-758e-e711-9419-005056951bf1 with 4942 in data and 2471 in log (200.0%)\n",
      "Potential issue found for a199a3a5-6674-e611-9410-005056951bf1 with 4910 in data and 2455 in log (200.0%)\n",
      "Potential issue found for 9cb970f1-a951-e511-9409-005056951bf1 with 4630 in data and 2315 in log (200.0%)\n",
      "Potential issue found for d57bb0ac-432e-4d3e-a4ba-7ad7439b8b02 with 4614 in data and 2307 in log (200.0%)\n",
      "Potential issue found for 324952b5-7a15-e311-9ec7-005056956277 with 4372 in data and 2186 in log (200.0%)\n",
      "Potential issue found for 0f626994-3055-e211-b7a2-005056956277 with 4268 in data and 2134 in log (200.0%)\n",
      "Potential issue found for 2518d0b1-4eae-e111-80ae-005056956277 with 4076 in data and 2038 in log (200.0%)\n",
      "Potential issue found for 1d17d0b1-4eae-e111-80ae-005056956277 with 3834 in data and 1917 in log (200.0%)\n",
      "Potential issue found for 1d16d0b1-4eae-e111-80ae-005056956277 with 3852 in data and 1926 in log (200.0%)\n",
      "Potential issue found for 7b15d0b1-4eae-e111-80ae-005056956277 with 3704 in data and 1852 in log (200.0%)\n",
      "Potential issue found for 0115d0b1-4eae-e111-80ae-005056956277 with 3616 in data and 1808 in log (200.0%)\n",
      "Potential issue found for a714d0b1-4eae-e111-80ae-005056956277 with 3670 in data and 1835 in log (200.0%)\n",
      "Potential issue found for 5514d0b1-4eae-e111-80ae-005056956277 with 3570 in data and 1785 in log (200.0%)\n",
      "Potential issue found for 0b14d0b1-4eae-e111-80ae-005056956277 with 3592 in data and 1796 in log (200.0%)\n",
      "Potential issue found for c313d0b1-4eae-e111-80ae-005056956277 with 3592 in data and 1796 in log (200.0%)\n",
      "Potential issue found for 8d13d0b1-4eae-e111-80ae-005056956277 with 3426 in data and 1713 in log (200.0%)\n"
     ]
    }
   ],
   "source": [
    "# Look for subevents where the total number returned by the request != the number of participants downloaded\n",
    "current_log_file=\"Logs/01_31_2025_01_26_get_clab_data.log\"\n",
    "\n",
    "for subevent_id in subevents[\"Subevent Id\"]:\n",
    "    participant_count_log = -1\n",
    "    participant_count_data = participant_data[participant_data[\"Clab Event Id\"] == subevent_id].shape[0]\n",
    "    with open(current_log_file, \"r\") as log:\n",
    "        for line in log.readlines():\n",
    "            # Expects log to be of the format Extracting data for XXXXXX with NUM_PARTICIPANTS participants\n",
    "            if subevent_id in line and \"Extracting data for\" in line:\n",
    "                participant_count_log = int(line.split(\" \")[-2])\n",
    "\n",
    "    if participant_count_log != participant_count_data:\n",
    "        print(f\"Potential issue found for {subevent_id} with {participant_count_data} in data and {participant_count_log} in log ({(participant_count_data/participant_count_log)*100:.1f}%)\")\n",
    "    else:\n",
    "        # print(participant_count_data, participant_count_log)\n",
    "        continue"
   ]
  },
  {
   "cell_type": "code",
   "execution_count": 4,
   "metadata": {},
   "outputs": [],
   "source": [
    "# Look for participants who are missing certain data"
   ]
  }
 ],
 "metadata": {
  "kernelspec": {
   "display_name": "RandomTasks",
   "language": "python",
   "name": "python3"
  },
  "language_info": {
   "codemirror_mode": {
    "name": "ipython",
    "version": 3
   },
   "file_extension": ".py",
   "mimetype": "text/x-python",
   "name": "python",
   "nbconvert_exporter": "python",
   "pygments_lexer": "ipython3",
   "version": "3.13.1"
  }
 },
 "nbformat": 4,
 "nbformat_minor": 2
}
